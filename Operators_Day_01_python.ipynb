{
  "nbformat": 4,
  "nbformat_minor": 0,
  "metadata": {
    "colab": {
      "provenance": [],
      "toc_visible": true,
      "authorship_tag": "ABX9TyNZm9AOo7afkcx1qI8Ge8+x",
      "include_colab_link": true
    },
    "kernelspec": {
      "name": "python3",
      "display_name": "Python 3"
    },
    "language_info": {
      "name": "python"
    }
  },
  "cells": [
    {
      "cell_type": "markdown",
      "metadata": {
        "id": "view-in-github",
        "colab_type": "text"
      },
      "source": [
        "<a href=\"https://colab.research.google.com/github/jafarsayed167/Python/blob/main/Operators_Day_01_python.ipynb\" target=\"_parent\"><img src=\"https://colab.research.google.com/assets/colab-badge.svg\" alt=\"Open In Colab\"/></a>"
      ]
    },
    {
      "cell_type": "markdown",
      "source": [
        "Python Operators\n",
        "\n",
        "Day-01\n",
        "Arithmetic Floor Divison in Python (//)"
      ],
      "metadata": {
        "id": "9QAbwao4Yl6L"
      }
    },
    {
      "cell_type": "code",
      "execution_count": null,
      "metadata": {
        "colab": {
          "base_uri": "https://localhost:8080/"
        },
        "id": "dabvsg4uYa3W",
        "outputId": "e4b2eefa-b845-44f8-9755-9c6f1e899172"
      },
      "outputs": [
        {
          "output_type": "stream",
          "name": "stdout",
          "text": [
            "3\n",
            "-4\n",
            "-4\n",
            "3\n"
          ]
        }
      ],
      "source": [
        "#example-1\n",
        "\n",
        "print(10//3)\n",
        "print(-10//3)\n",
        "print(10//-3)\n",
        "print(-10//-3)"
      ]
    },
    {
      "cell_type": "code",
      "source": [
        "#Examle-3\n",
        "\n",
        "print(3//10)\n",
        "print(-3//10)\n",
        "print(3//-10)\n",
        "print(-3//-10)"
      ],
      "metadata": {
        "colab": {
          "base_uri": "https://localhost:8080/"
        },
        "id": "RNWUE39rZID1",
        "outputId": "9e0356b1-118e-42da-8ab5-6db2ed77cb30"
      },
      "execution_count": null,
      "outputs": [
        {
          "output_type": "stream",
          "name": "stdout",
          "text": [
            "0\n",
            "-1\n",
            "-1\n",
            "0\n"
          ]
        }
      ]
    },
    {
      "cell_type": "code",
      "source": [
        "# Example - 3\n",
        "\n",
        "print(14.5//3)\n",
        "print(-14.5//3)\n",
        "print(14.5//-3)\n",
        "print(-14.5//-3)"
      ],
      "metadata": {
        "colab": {
          "base_uri": "https://localhost:8080/"
        },
        "id": "283-4Ri2ZKq2",
        "outputId": "cb196fa3-48fd-4a2e-a2fe-6000b841d24c"
      },
      "execution_count": null,
      "outputs": [
        {
          "output_type": "stream",
          "name": "stdout",
          "text": [
            "4.0\n",
            "-5.0\n",
            "-5.0\n",
            "4.0\n"
          ]
        }
      ]
    },
    {
      "cell_type": "code",
      "source": [
        "# Example-5\n",
        "print(3//14.5)\n",
        "print(-3//14.5)\n",
        "print(3//-14.5)\n",
        "print(-3//-14.5)"
      ],
      "metadata": {
        "colab": {
          "base_uri": "https://localhost:8080/"
        },
        "id": "9v0ZxnJOZtYM",
        "outputId": "f7128b29-36ec-49e4-ba3b-01c2b256d9ce"
      },
      "execution_count": null,
      "outputs": [
        {
          "output_type": "stream",
          "name": "stdout",
          "text": [
            "0.0\n",
            "-1.0\n",
            "-1.0\n",
            "0.0\n"
          ]
        }
      ]
    },
    {
      "cell_type": "markdown",
      "source": [
        "Arithmetic Modulus Operator (%)"
      ],
      "metadata": {
        "id": "nR046ZocaB76"
      }
    },
    {
      "cell_type": "code",
      "source": [
        "#example-1\n",
        "# Formula is a - (b*(a//b))\n",
        "\n",
        "print(6%2)\n",
        "print(-6%2)\n",
        "print(6%-2)\n",
        "print(-6%-2)"
      ],
      "metadata": {
        "colab": {
          "base_uri": "https://localhost:8080/"
        },
        "id": "tpmlTlm8adq-",
        "outputId": "0239addf-6af1-4913-8489-14770e787b78"
      },
      "execution_count": null,
      "outputs": [
        {
          "output_type": "stream",
          "name": "stdout",
          "text": [
            "0\n",
            "0\n",
            "0\n",
            "0\n"
          ]
        }
      ]
    },
    {
      "cell_type": "code",
      "source": [
        "#example-2\n",
        "\n",
        "print(2%6)\n",
        "print(-2%6)\n",
        "print(2%-6)\n",
        "print(-2%-6)"
      ],
      "metadata": {
        "colab": {
          "base_uri": "https://localhost:8080/"
        },
        "id": "sh3w9VTtbGCe",
        "outputId": "5719e296-960b-4d2d-957b-bfcf1f6392cb"
      },
      "execution_count": null,
      "outputs": [
        {
          "output_type": "stream",
          "name": "stdout",
          "text": [
            "2\n",
            "4\n",
            "-4\n",
            "-2\n"
          ]
        }
      ]
    },
    {
      "cell_type": "code",
      "source": [
        "#example - 3\n",
        "\n",
        "print(16%13)\n",
        "print(-16%13)\n",
        "print(16%-13)\n",
        "print(-16%-13)"
      ],
      "metadata": {
        "colab": {
          "base_uri": "https://localhost:8080/"
        },
        "id": "RcwmWNVhbWqF",
        "outputId": "94978f46-2844-442a-bc97-d5c70c4e5a90"
      },
      "execution_count": null,
      "outputs": [
        {
          "output_type": "stream",
          "name": "stdout",
          "text": [
            "3\n",
            "10\n",
            "-10\n",
            "-3\n"
          ]
        }
      ]
    },
    {
      "cell_type": "code",
      "source": [
        "# example - 4\n",
        "\n",
        "print(13%16)\n",
        "print(-13%16)\n",
        "print(13%-16)\n",
        "print(-13%-16)"
      ],
      "metadata": {
        "colab": {
          "base_uri": "https://localhost:8080/"
        },
        "id": "ULplAKVYbqnd",
        "outputId": "7ae88cfe-c220-4e22-b2f4-b284eb4fde91"
      },
      "execution_count": null,
      "outputs": [
        {
          "output_type": "stream",
          "name": "stdout",
          "text": [
            "13\n",
            "3\n",
            "-3\n",
            "-13\n"
          ]
        }
      ]
    },
    {
      "cell_type": "markdown",
      "source": [
        "3) Arithmetic Exponent Operator"
      ],
      "metadata": {
        "id": "men39WXOcPCb"
      }
    },
    {
      "cell_type": "code",
      "source": [
        "#Arithmetic Exponent Operator (**)\n",
        "\n",
        "base = int(input())\n",
        "power = int(input())\n",
        "result = base ** power\n",
        "print(result)"
      ],
      "metadata": {
        "colab": {
          "base_uri": "https://localhost:8080/"
        },
        "id": "PLQrpao6cUtu",
        "outputId": "ae42007f-e4dc-4761-cef1-d9bc3bc41df1"
      },
      "execution_count": null,
      "outputs": [
        {
          "output_type": "stream",
          "name": "stdout",
          "text": [
            "2\n",
            "3\n",
            "8\n"
          ]
        }
      ]
    },
    {
      "cell_type": "markdown",
      "source": [
        "4) Relational Operator"
      ],
      "metadata": {
        "id": "trMshpsJcZap"
      }
    },
    {
      "cell_type": "code",
      "source": [
        "print(10>10)\n",
        "print(10>=10)\n",
        "print(10<10)\n",
        "print(10<=10)\n",
        "print(10==10)\n",
        "print(10!=10)"
      ],
      "metadata": {
        "colab": {
          "base_uri": "https://localhost:8080/"
        },
        "id": "bZZt40DhccMd",
        "outputId": "c209e004-94f8-4aff-cddd-21f976439cc0"
      },
      "execution_count": null,
      "outputs": [
        {
          "output_type": "stream",
          "name": "stdout",
          "text": [
            "False\n",
            "True\n",
            "False\n",
            "True\n",
            "True\n",
            "False\n"
          ]
        }
      ]
    },
    {
      "cell_type": "markdown",
      "source": [
        "Logical and Operator"
      ],
      "metadata": {
        "id": "hP8rkEDKctFE"
      }
    },
    {
      "cell_type": "code",
      "source": [
        "# definition : Returns True if both are true, otherwise false\n",
        "\n",
        "n1 = 11\n",
        "n2 = 22\n",
        "result = (n1<50 and n2>20)\n",
        "print(result)\n",
        "result = (n1>50 and n2>20)\n",
        "print(result)"
      ],
      "metadata": {
        "colab": {
          "base_uri": "https://localhost:8080/"
        },
        "id": "S-K-Rw1ic0XB",
        "outputId": "1ab5debd-fa81-4819-dfa4-247e7b54a63a"
      },
      "execution_count": null,
      "outputs": [
        {
          "output_type": "stream",
          "name": "stdout",
          "text": [
            "True\n",
            "False\n"
          ]
        }
      ]
    },
    {
      "cell_type": "markdown",
      "source": [
        "Logical or Operator"
      ],
      "metadata": {
        "id": "5PxYXV8ddSWY"
      }
    },
    {
      "cell_type": "code",
      "source": [
        "#definition => or operator evaluates all expressions and returns the first value that evaluates true, otherwise it evaluates last value that evaluates false\n",
        "\n",
        "n1 = 56\n",
        "n2 = 67\n",
        "res = (n1<50 or n2>20)\n",
        "print(res)\n",
        "res = (n1<50 or n2>88)\n",
        "print(res)"
      ],
      "metadata": {
        "colab": {
          "base_uri": "https://localhost:8080/"
        },
        "id": "3AJW6g4kdUss",
        "outputId": "40bf7124-e8f0-4e65-c464-42a832dc5470"
      },
      "execution_count": null,
      "outputs": [
        {
          "output_type": "stream",
          "name": "stdout",
          "text": [
            "True\n",
            "False\n"
          ]
        }
      ]
    }
  ]
}