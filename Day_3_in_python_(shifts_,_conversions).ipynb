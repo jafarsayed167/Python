{
  "nbformat": 4,
  "nbformat_minor": 0,
  "metadata": {
    "colab": {
      "provenance": [],
      "authorship_tag": "ABX9TyMWOFK1hAjzVpSGJtSzt3ZW",
      "include_colab_link": true
    },
    "kernelspec": {
      "name": "python3",
      "display_name": "Python 3"
    },
    "language_info": {
      "name": "python"
    }
  },
  "cells": [
    {
      "cell_type": "markdown",
      "metadata": {
        "id": "view-in-github",
        "colab_type": "text"
      },
      "source": [
        "<a href=\"https://colab.research.google.com/github/jafarsayed167/Python/blob/main/Day_3_in_python_(shifts_%2C_conversions).ipynb\" target=\"_parent\"><img src=\"https://colab.research.google.com/assets/colab-badge.svg\" alt=\"Open In Colab\"/></a>"
      ]
    },
    {
      "cell_type": "markdown",
      "source": [
        "Day -03 in python (29-05-2025)"
      ],
      "metadata": {
        "id": "8eLzOEOGUwHn"
      }
    },
    {
      "cell_type": "code",
      "execution_count": 1,
      "metadata": {
        "colab": {
          "base_uri": "https://localhost:8080/"
        },
        "id": "vzh2ty2yUu1L",
        "outputId": "909a4199-e218-488c-9794-1f2d998737ec"
      },
      "outputs": [
        {
          "output_type": "stream",
          "name": "stdout",
          "text": [
            "384\n"
          ]
        }
      ],
      "source": [
        "# Left shift\n",
        "# Formula --> value * 2 ^ no of bits shift\n",
        "x = 48 << 3\n",
        "print(x)"
      ]
    },
    {
      "cell_type": "code",
      "source": [
        "#right shift\n",
        "# formula --> value/2^no if bits shift\n",
        "\n",
        "x = 48>>3\n",
        "print(x)"
      ],
      "metadata": {
        "colab": {
          "base_uri": "https://localhost:8080/"
        },
        "id": "q6Wa8zGJVKVL",
        "outputId": "beec96a4-a70b-440a-911e-14227bfd7683"
      },
      "execution_count": 2,
      "outputs": [
        {
          "output_type": "stream",
          "name": "stdout",
          "text": [
            "6\n"
          ]
        }
      ]
    },
    {
      "cell_type": "code",
      "source": [
        "#Type conversion: 1) Implicit , 2) Explicit\n",
        "\n",
        "x = 2.5\n",
        "y = 3\n",
        "z = x + y\n",
        "print(z)\n"
      ],
      "metadata": {
        "colab": {
          "base_uri": "https://localhost:8080/"
        },
        "id": "NPmswWbBVXOl",
        "outputId": "e50e47e2-bbfd-489d-cbe5-30adcb66fff9"
      },
      "execution_count": 3,
      "outputs": [
        {
          "output_type": "stream",
          "name": "stdout",
          "text": [
            "5.5\n"
          ]
        }
      ]
    },
    {
      "cell_type": "code",
      "source": [
        "#Explicit code and implicit code\n",
        "\n",
        "x = 5\n",
        "y = 2.5\n",
        "print(x+y)\n",
        "print(int(x+y))"
      ],
      "metadata": {
        "colab": {
          "base_uri": "https://localhost:8080/"
        },
        "id": "nM1qHlwDVlD9",
        "outputId": "c2c8c6ba-28e3-4875-c196-7f04a86c55b9"
      },
      "execution_count": 4,
      "outputs": [
        {
          "output_type": "stream",
          "name": "stdout",
          "text": [
            "7.5\n",
            "7\n"
          ]
        }
      ]
    },
    {
      "cell_type": "code",
      "source": [
        "#Examples on operators\n",
        "print(2 ** 6 // 8 % 2)\n",
        "print(10 + 6 - 2 % 3 + 7 - 2)\n",
        "print(5 % 10 + 10 - 23 * 4 // 3)\n",
        "print(5+5//5-5*5**5%5)\n"
      ],
      "metadata": {
        "colab": {
          "base_uri": "https://localhost:8080/"
        },
        "id": "OYtBai7cVwx0",
        "outputId": "3f9eb6a8-b455-49d4-862d-2370ff4467ee"
      },
      "execution_count": 6,
      "outputs": [
        {
          "output_type": "stream",
          "name": "stdout",
          "text": [
            "0\n",
            "19\n",
            "-15\n",
            "6\n"
          ]
        }
      ]
    }
  ]
}