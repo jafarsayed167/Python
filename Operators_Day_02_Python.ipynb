{
  "nbformat": 4,
  "nbformat_minor": 0,
  "metadata": {
    "colab": {
      "provenance": [],
      "authorship_tag": "ABX9TyN2S9A4mMcokKqp3EiEdAaK",
      "include_colab_link": true
    },
    "kernelspec": {
      "name": "python3",
      "display_name": "Python 3"
    },
    "language_info": {
      "name": "python"
    }
  },
  "cells": [
    {
      "cell_type": "markdown",
      "metadata": {
        "id": "view-in-github",
        "colab_type": "text"
      },
      "source": [
        "<a href=\"https://colab.research.google.com/github/jafarsayed167/Python/blob/main/Operators_Day_02_Python.ipynb\" target=\"_parent\"><img src=\"https://colab.research.google.com/assets/colab-badge.svg\" alt=\"Open In Colab\"/></a>"
      ]
    },
    {
      "cell_type": "markdown",
      "source": [
        "Operator in Python (Day-02)"
      ],
      "metadata": {
        "id": "dbtOjBkOjc2Q"
      }
    },
    {
      "cell_type": "code",
      "source": [
        "#Logical and Operator 4 expression combinations\n",
        "\n",
        "n1 = 16\n",
        "n2 = 7\n",
        "print(n1 < 17 and n2 > 16 and n1 < 12 and n2 < 9)\n",
        "print(n1 < 18 and n2 > 6 and n1 < 19 and n2 < 13)\n",
        "print(n1 >16  and n2 > 16 and n1 < 12 and n2 < 7)\n",
        "print(n1 < 17 and n2 > 14 and n1 < 11 and n2 < 16)"
      ],
      "metadata": {
        "colab": {
          "base_uri": "https://localhost:8080/"
        },
        "id": "-OJiQyuJjloT",
        "outputId": "7f11f192-6f7b-4aa8-dc8f-afec88013ed6"
      },
      "execution_count": 9,
      "outputs": [
        {
          "output_type": "stream",
          "name": "stdout",
          "text": [
            "False\n",
            "True\n",
            "False\n",
            "False\n"
          ]
        }
      ]
    },
    {
      "cell_type": "code",
      "source": [
        "#Logical NOT Operator\n",
        "\n",
        "k = 1\n",
        "res = not k\n",
        "print(res)"
      ],
      "metadata": {
        "colab": {
          "base_uri": "https://localhost:8080/"
        },
        "id": "ZMvZnlDzkVaL",
        "outputId": "1166f413-fe66-47fb-e13b-ef5acec1a3ee"
      },
      "execution_count": 10,
      "outputs": [
        {
          "output_type": "stream",
          "name": "stdout",
          "text": [
            "False\n"
          ]
        }
      ]
    },
    {
      "cell_type": "code",
      "source": [
        "#Logical NOT Operator\n",
        "k = 11<22\n",
        "res = not k\n",
        "print(res)\n",
        "print(k)"
      ],
      "metadata": {
        "colab": {
          "base_uri": "https://localhost:8080/"
        },
        "id": "r--uotELkoas",
        "outputId": "f8a31449-942d-4996-caca-d97884451448"
      },
      "execution_count": 11,
      "outputs": [
        {
          "output_type": "stream",
          "name": "stdout",
          "text": [
            "False\n",
            "True\n"
          ]
        }
      ]
    },
    {
      "cell_type": "code",
      "source": [
        "#Unary Minus\n",
        "#---> Unary Operator act on single operand\n",
        "#---> When an operand is preceeded by a minus sign, the unary operator negates its value\n",
        "\n",
        "x = 10\n",
        "y = -x\n",
        "print(x)\n",
        "print(y)"
      ],
      "metadata": {
        "colab": {
          "base_uri": "https://localhost:8080/"
        },
        "id": "XIEQ8CRtkxbs",
        "outputId": "a2a8a253-da45-4b85-fd7b-f6789a73b914"
      },
      "execution_count": 12,
      "outputs": [
        {
          "output_type": "stream",
          "name": "stdout",
          "text": [
            "10\n",
            "-10\n"
          ]
        }
      ]
    },
    {
      "cell_type": "code",
      "source": [
        "#Operators: Memership in and not in\n",
        "\n",
        "n = \"Jafar Sadik\"\n",
        "v = 'f'\n",
        "result = v in n\n",
        "s = v not in n\n",
        "print(result)\n",
        "print(s)"
      ],
      "metadata": {
        "colab": {
          "base_uri": "https://localhost:8080/"
        },
        "id": "j1B1PLYZlEvR",
        "outputId": "e96144ab-dd87-4d8b-dc22-24a180aff1f1"
      },
      "execution_count": 16,
      "outputs": [
        {
          "output_type": "stream",
          "name": "stdout",
          "text": [
            "True\n",
            "False\n"
          ]
        }
      ]
    },
    {
      "cell_type": "code",
      "source": [
        "#Operators: Identity - is and is not operator\n",
        "#--> is operator : Returns true if operand or value on both sides of the operator point to the same object and false otherwise\n",
        "#--> is not operator: Returns true if operand or value on both sides of the operator does not point to the same object and false otherwise\n",
        "\n",
        "x = '1122'\n",
        "y = 1122\n",
        "z = \"1122\"\n",
        "r1 = x is y\n",
        "r2 = x is z\n",
        "r3 = x is not y\n",
        "print(r1)\n",
        "print(r2)\n",
        "print(r3)"
      ],
      "metadata": {
        "colab": {
          "base_uri": "https://localhost:8080/"
        },
        "id": "7X2MrMTZlfcy",
        "outputId": "bbae1bdb-d08b-40db-dc95-56b5e20d807c"
      },
      "execution_count": 17,
      "outputs": [
        {
          "output_type": "stream",
          "name": "stdout",
          "text": [
            "False\n",
            "True\n",
            "True\n"
          ]
        }
      ]
    },
    {
      "cell_type": "code",
      "source": [
        "#Operators: Bitwise and(&)\n",
        "\n",
        "x = 5\n",
        "y = 6\n",
        "z = x and y\n",
        "print(z)"
      ],
      "metadata": {
        "colab": {
          "base_uri": "https://localhost:8080/"
        },
        "id": "GshvKyRFmOGO",
        "outputId": "8f84c5dd-2984-4056-daaf-84e5a6984120"
      },
      "execution_count": 19,
      "outputs": [
        {
          "output_type": "stream",
          "name": "stdout",
          "text": [
            "6\n"
          ]
        }
      ]
    },
    {
      "cell_type": "code",
      "source": [
        "# Operators: Bitwise or (|)\n",
        "x = 5\n",
        "y - 6\n",
        "z = x|y\n",
        "print(z)"
      ],
      "metadata": {
        "colab": {
          "base_uri": "https://localhost:8080/"
        },
        "id": "5fhKlDefmha0",
        "outputId": "1e341f28-140c-4c42-a089-7b17bf46e382"
      },
      "execution_count": 20,
      "outputs": [
        {
          "output_type": "stream",
          "name": "stdout",
          "text": [
            "7\n"
          ]
        }
      ]
    },
    {
      "cell_type": "code",
      "source": [
        "#Operators: Bitwise xor(^)\n",
        "\n",
        "x = 5\n",
        "y = 6\n",
        "z = x ^ y\n",
        "print(z)"
      ],
      "metadata": {
        "colab": {
          "base_uri": "https://localhost:8080/"
        },
        "id": "5_-yh9uNnTkH",
        "outputId": "3c0e6247-4570-4eac-8e4b-4228a54bf066"
      },
      "execution_count": 24,
      "outputs": [
        {
          "output_type": "stream",
          "name": "stdout",
          "text": [
            "3\n"
          ]
        }
      ]
    },
    {
      "cell_type": "code",
      "source": [
        "#Operators: Bitwise not (~)\n",
        "\n",
        "x = 5\n",
        "y = 167\n",
        "z = 1679\n",
        "print(~x)\n",
        "print(~y)\n",
        "print(~z)"
      ],
      "metadata": {
        "colab": {
          "base_uri": "https://localhost:8080/"
        },
        "id": "b45uFbjQnbwL",
        "outputId": "51734b6a-6cf6-4545-bbd3-1e29faf62e77"
      },
      "execution_count": 25,
      "outputs": [
        {
          "output_type": "stream",
          "name": "stdout",
          "text": [
            "-6\n",
            "-168\n",
            "-1680\n"
          ]
        }
      ]
    }
  ]
}