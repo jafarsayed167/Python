{
  "nbformat": 4,
  "nbformat_minor": 0,
  "metadata": {
    "colab": {
      "provenance": [],
      "authorship_tag": "ABX9TyNJO69x3AWJjg71wVWI+hqX",
      "include_colab_link": true
    },
    "kernelspec": {
      "name": "python3",
      "display_name": "Python 3"
    },
    "language_info": {
      "name": "python"
    }
  },
  "cells": [
    {
      "cell_type": "markdown",
      "metadata": {
        "id": "view-in-github",
        "colab_type": "text"
      },
      "source": [
        "<a href=\"https://colab.research.google.com/github/jafarsayed167/Python/blob/main/Day_4_If_else.ipynb\" target=\"_parent\"><img src=\"https://colab.research.google.com/assets/colab-badge.svg\" alt=\"Open In Colab\"/></a>"
      ]
    },
    {
      "cell_type": "code",
      "execution_count": 1,
      "metadata": {
        "colab": {
          "base_uri": "https://localhost:8080/"
        },
        "id": "G54aPLQTbQZe",
        "outputId": "456d2910-5d2c-48e8-a713-d4b9ad0240eb"
      },
      "outputs": [
        {
          "output_type": "stream",
          "name": "stdout",
          "text": [
            "Enter a Number2\n",
            "Even\n"
          ]
        }
      ],
      "source": [
        "# Even or add\n",
        "\n",
        "num = int(input(\"Enter a Number\"))\n",
        "if num % 2 == 0:\n",
        "    print(\"Even\")\n",
        "else:\n",
        "    print(\"Odd\")"
      ]
    },
    {
      "cell_type": "code",
      "source": [
        "#Pass or Fail in exam\n",
        "\n",
        "num = int(input(\"Enter yoyr exam Marks\"))\n",
        "if num < 36:\n",
        "    print(\"You are Fail\")\n",
        "else:\n",
        "    print(\"Pass\")"
      ],
      "metadata": {
        "colab": {
          "base_uri": "https://localhost:8080/"
        },
        "id": "BDbnFNoAbjeH",
        "outputId": "77fb27ec-9774-4160-bc6e-c77bc6f14084"
      },
      "execution_count": 2,
      "outputs": [
        {
          "output_type": "stream",
          "name": "stdout",
          "text": [
            "Enter yoyr exam Marks35\n",
            "You are Fail\n"
          ]
        }
      ]
    },
    {
      "cell_type": "code",
      "source": [
        "#Example\n",
        "nusername = \"jafar\"\n",
        "npassword = 1234\n",
        "username = input()\n",
        "password  = int(input())\n",
        "if npassword == password and nusername == username:\n",
        "    print(\"grant access\")\n",
        "else:\n",
        "    print(\"deny access\")"
      ],
      "metadata": {
        "colab": {
          "base_uri": "https://localhost:8080/"
        },
        "id": "fjd2LOdcbnpa",
        "outputId": "d708214f-b46a-499c-d3f8-cc7bcf9175a4"
      },
      "execution_count": 4,
      "outputs": [
        {
          "output_type": "stream",
          "name": "stdout",
          "text": [
            "jafar\n",
            "1234\n",
            "grant access\n"
          ]
        }
      ]
    },
    {
      "cell_type": "code",
      "source": [
        "#Train tickets example\n",
        "tckts = int(input())\n",
        "if tckts <= 6:\n",
        "    print(\"Booking allowed\")\n",
        "else:\n",
        "    print(\"Booking limit exceeded\")\n",
        ""
      ],
      "metadata": {
        "colab": {
          "base_uri": "https://localhost:8080/"
        },
        "id": "Xcam33mmb1zt",
        "outputId": "54616837-ecff-4d10-cfff-2df5a361584b"
      },
      "execution_count": 5,
      "outputs": [
        {
          "output_type": "stream",
          "name": "stdout",
          "text": [
            "7\n",
            "Booking limit exceeded\n"
          ]
        }
      ]
    },
    {
      "cell_type": "code",
      "source": [
        "#discount on weekends\n",
        "chk = input()\n",
        "if chk == \"saturday\" or chk ==\"sunday\":\n",
        "    print(\"Discount applicable\")\n",
        "else:\n",
        "    print(\"No discount\")\n"
      ],
      "metadata": {
        "colab": {
          "base_uri": "https://localhost:8080/"
        },
        "id": "EKVV1zNAb8_A",
        "outputId": "f6bfbacc-a63b-40eb-a238-465f1abf7beb"
      },
      "execution_count": 7,
      "outputs": [
        {
          "output_type": "stream",
          "name": "stdout",
          "text": [
            "saturday\n",
            "Discount applicable\n"
          ]
        }
      ]
    },
    {
      "cell_type": "code",
      "source": [
        "#Checking the number is positive/neg\n",
        "nmbr = int(input(\"Enter a number: \"))\n",
        "if nmbr>0:\n",
        "    print(\"+ve number\")\n",
        "elif nmbr < 0:\n",
        "    print(\"-ve number\")\n",
        "else:\n",
        "    print(\"zero\")"
      ],
      "metadata": {
        "colab": {
          "base_uri": "https://localhost:8080/"
        },
        "id": "8RNU2hEccGWi",
        "outputId": "5b601ac8-638a-4501-b8a4-49a534ebfa73"
      },
      "execution_count": 8,
      "outputs": [
        {
          "output_type": "stream",
          "name": "stdout",
          "text": [
            "Enter a number: -10\n",
            "-ve number\n"
          ]
        }
      ]
    },
    {
      "cell_type": "code",
      "source": [
        "#printing the weeks\n",
        "num = int(input())\n",
        "if num == 0:\n",
        "    print(\"Sunday\")\n",
        "elif num == 1:\n",
        "    print(\"Monday\")\n",
        "elif num == 2:\n",
        "    print(\"Tuesday\")\n",
        "elif num == 3:\n",
        "    print(\"Wednesday\")\n",
        "elif num == 4:\n",
        "    print(\"Thursday\")\n",
        "elif num == 5:\n",
        "    print(\"Friday\")\n",
        "elif num == 6:\n",
        "    print(\"Saturday\")\n",
        "else:\n",
        "    print(\"invalid\")\n",
        ""
      ],
      "metadata": {
        "colab": {
          "base_uri": "https://localhost:8080/"
        },
        "id": "ZjZh5R3gcPBe",
        "outputId": "e273e9c0-b6bf-48fe-8686-036be9032804"
      },
      "execution_count": 9,
      "outputs": [
        {
          "output_type": "stream",
          "name": "stdout",
          "text": [
            "4\n",
            "Thursday\n"
          ]
        }
      ]
    },
    {
      "cell_type": "code",
      "source": [
        "#Which is greatest\n",
        "num = int(input())\n",
        "num1 = int(input())\n",
        "num2 = int(input())\n",
        "if num>num1 and num>num2:\n",
        "    print(num)\n",
        "elif num1>num2:\n",
        "    print(num1)\n",
        "else:\n",
        "    print(num2)\n"
      ],
      "metadata": {
        "colab": {
          "base_uri": "https://localhost:8080/"
        },
        "id": "_ysUfoKocYn_",
        "outputId": "5bb24439-b14c-4e84-be79-33a99d60734b"
      },
      "execution_count": 10,
      "outputs": [
        {
          "output_type": "stream",
          "name": "stdout",
          "text": [
            "10\n",
            "20\n",
            "30\n",
            "30\n"
          ]
        }
      ]
    },
    {
      "cell_type": "code",
      "source": [
        "#park ticket according to age\n",
        "age = int(input())\n",
        "if age<5:\n",
        "    print(\"ticket is free\")\n",
        "elif age>= 5 and age<=12:\n",
        "    print(\"child ticket(100rs)\")\n",
        "elif age>=13 and age<=59:\n",
        "    print(\"regular ticket(200rs)\")\n",
        "elif age>=60:\n",
        "    print(\"senior citizen ticket(120rs)\")"
      ],
      "metadata": {
        "colab": {
          "base_uri": "https://localhost:8080/"
        },
        "id": "gPIsRhlHchpc",
        "outputId": "d736f6f8-79fb-420a-86d9-8bf5d51cc6b4"
      },
      "execution_count": 11,
      "outputs": [
        {
          "output_type": "stream",
          "name": "stdout",
          "text": [
            "6\n",
            "child ticket(100rs)\n"
          ]
        }
      ]
    }
  ]
}